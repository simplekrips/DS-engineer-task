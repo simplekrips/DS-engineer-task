{
 "cells": [
  {
   "cell_type": "code",
   "execution_count": 3,
   "id": "ba495029",
   "metadata": {},
   "outputs": [],
   "source": [
    "def num_islands(grid):\n",
    "    # Return 0 if the grid is empty\n",
    "    if not grid:\n",
    "        return 0\n",
    "\n",
    "    # Get the number of rows and columns in the grid\n",
    "    rows, cols = len(grid), len(grid[0])\n",
    "    # Create a set to keep track of visited cells\n",
    "    visited = set()\n",
    "    \n",
    "    # Helper function to perform Depth-First Search (DFS)\n",
    "    def dfs(r, c):\n",
    "        # Check boundary conditions and whether to continue:\n",
    "        # if out of grid bounds, current cell is \"0\", or cell is already visited\n",
    "        if (r < 0 or c < 0 or r >= rows or c >= cols or\n",
    "                grid[r][c] == \"0\" or (r, c) in visited):\n",
    "            return\n",
    "        # Mark the current cell as visited\n",
    "        visited.add((r, c))\n",
    "        # Recursively call DFS for all adjacent cells\n",
    "        dfs(r + 1, c)\n",
    "        dfs(r - 1, c)\n",
    "        dfs(r, c + 1)\n",
    "        dfs(r, c - 1)\n",
    "\n",
    "    # Counter for the number of islands\n",
    "    count = 0\n",
    "    # Iterate through every cell in the grid\n",
    "    for r in range(rows):\n",
    "        for c in range(cols):\n",
    "            # If we find an unvisited \"1\", initiate DFS and increment island count\n",
    "            if grid[r][c] == \"1\" and (r, c) not in visited:\n",
    "                dfs(r, c)\n",
    "                count += 1\n",
    "\n",
    "    # Return the total number of islands\n",
    "    return count"
   ]
  },
  {
   "cell_type": "code",
   "execution_count": 5,
   "id": "7beb1e19",
   "metadata": {},
   "outputs": [
    {
     "name": "stdout",
     "output_type": "stream",
     "text": [
      "7\n"
     ]
    }
   ],
   "source": [
    "# Example grid\n",
    "grid = [\n",
    "    [\"1\", \"1\", \"0\", \"0\", \"1\"],\n",
    "    [\"1\", \"1\", \"0\", \"0\", \"1\"],\n",
    "    [\"1\", \"0\", \"1\", \"1\", \"0\"],\n",
    "    [\"0\", \"0\", \"0\", \"0\", \"1\"],\n",
    "    [\"1\", \"0\", \"0\", \"1\", \"0\"],\n",
    "    [\"1\", \"0\", \"0\", \"0\", \"1\"],\n",
    "    [\"1\", \"0\", \"0\", \"1\", \"1\"]\n",
    "]\n",
    "\n",
    "# Output the number of islands in the grid\n",
    "print(num_islands(grid)) "
   ]
  },
  {
   "cell_type": "code",
   "execution_count": null,
   "id": "4b9d9ec6",
   "metadata": {},
   "outputs": [],
   "source": []
  }
 ],
 "metadata": {
  "kernelspec": {
   "display_name": "Python 3 (ipykernel)",
   "language": "python",
   "name": "python3"
  },
  "language_info": {
   "codemirror_mode": {
    "name": "ipython",
    "version": 3
   },
   "file_extension": ".py",
   "mimetype": "text/x-python",
   "name": "python",
   "nbconvert_exporter": "python",
   "pygments_lexer": "ipython3",
   "version": "3.9.7"
  }
 },
 "nbformat": 4,
 "nbformat_minor": 5
}
