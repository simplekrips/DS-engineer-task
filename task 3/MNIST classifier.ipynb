{
 "cells": [
  {
   "cell_type": "code",
   "execution_count": 1,
   "id": "66ea7875",
   "metadata": {},
   "outputs": [],
   "source": [
    "from abc import ABC, abstractmethod\n",
    "\n",
    "import numpy as np\n",
    "from sklearn.ensemble import RandomForestClassifier\n",
    "\n",
    "import torch\n",
    "import torch.nn as nn\n",
    "import torch.optim as optim\n",
    "import torchvision\n",
    "import torchvision.transforms as transforms\n",
    "import torch.nn.functional as F\n",
    "from torch.utils.data import DataLoader"
   ]
  },
  {
   "cell_type": "code",
   "execution_count": 2,
   "id": "c6d2ebc8",
   "metadata": {},
   "outputs": [],
   "source": [
    "class DigitClassificationInterface(ABC):\n",
    "    # This is an abstract base class (ABC) used to define an interface for digit classification models.\n",
    "    # It ensures that all subclasses implement the specified methods, providing a consistent approach to training and prediction.\n",
    "\n",
    "    @abstractmethod\n",
    "    def train(self, x):\n",
    "        # Abstract method that should be implemented by subclasses to train the model.\n",
    "        # The method should take 'x' as input, which could be data used for training the model.\n",
    "        # This method is expected to handle all the training logic for a digit classification model.\n",
    "        pass\n",
    "    \n",
    "    @abstractmethod\n",
    "    def predict(self, x):\n",
    "        # Abstract method that should be implemented by subclasses to make predictions on the input data.\n",
    "        # The method should take 'x' as input, which could be new, unseen data that the model will make predictions on.\n",
    "        # This method should return the predicted output (the class labels for the input data).\n",
    "        pass\n",
    "\n",
    "\n",
    "class CNNClassifier(nn.Module):\n",
    "    def __init__(self):\n",
    "        super().__init__()\n",
    "        # Initialize the feature extractor part of the network\n",
    "        # It includes convolutional layers with ReLU activation, batch normalization, and max pooling.\n",
    "        self.feature_extractor = nn.Sequential(\n",
    "            nn.Conv2d(1, 32, kernel_size=3, padding=1),\n",
    "            nn.ReLU(),\n",
    "            nn.BatchNorm2d(32),\n",
    "            nn.MaxPool2d(kernel_size=2),\n",
    "            \n",
    "            nn.Conv2d(32, 64, kernel_size=3, padding=1),\n",
    "            nn.ReLU(),\n",
    "            nn.BatchNorm2d(64),\n",
    "            nn.MaxPool2d(kernel_size=2),\n",
    "            \n",
    "            nn.Conv2d(64, 128, kernel_size=3, padding=1),\n",
    "            nn.ReLU(),\n",
    "            nn.BatchNorm2d(128),\n",
    "            nn.MaxPool2d(kernel_size=2),\n",
    "\n",
    "            nn.Flatten()  # Flatten the output of convolutional layers to feed into fully connected layers\n",
    "        )\n",
    "        \n",
    "        # Initialize the classifier part of the network\n",
    "        # It consists of fully connected layers with ReLU activation and dropout for regularization.\n",
    "        self.classifier = nn.Sequential(\n",
    "            nn.Linear(128 * 3 * 3, 256),  # Calculate the correct input size\n",
    "            nn.ReLU(),\n",
    "            nn.Dropout(0.5),  # Dropout layer for preventing overfitting\n",
    "            nn.Linear(256, 10)  # Output layer with 10 units for 10 classes\n",
    "        )\n",
    "    \n",
    "    def forward(self, x):\n",
    "        # Define the forward pass process, combining feature extractor and classifier\n",
    "        x = self.feature_extractor(x)  # Process input through the feature extractor\n",
    "        x = self.classifier(x)  # Process the result through the classifier\n",
    "        return x\n",
    "\n",
    "    def train_model(self, train_loader: DataLoader, epochs=1):\n",
    "        # Train the model using stochastic gradient descent and cross entropy loss\n",
    "        optimizer = optim.SGD(self.parameters(), lr=0.01, momentum=0.9)\n",
    "        criterion = nn.CrossEntropyLoss()\n",
    "\n",
    "        for epoch in range(epochs):\n",
    "            self.train()  # Set the model to training mode\n",
    "            total_loss = 0\n",
    "            for data, target in train_loader:\n",
    "                optimizer.zero_grad()  # Reset gradients to zero\n",
    "                output = self(data)  # Compute output\n",
    "                loss = criterion(output, target)  # Compute loss\n",
    "                loss.backward()  # Backpropagate the error\n",
    "                optimizer.step()  # Update weights\n",
    "                total_loss += loss.item()  # Sum up loss for average calculation\n",
    "\n",
    "            print(f'Epoch: {epoch+1}, Average Loss: {total_loss / len(train_loader):.6f}')\n",
    "\n",
    "    def predict(self, x):\n",
    "        # Predict method to evaluate an individual sample\n",
    "        self.eval()  # Set the model to evaluation mode\n",
    "        with torch.no_grad():  # Disable gradient computation\n",
    "            x = x.view(-1, 1, 28, 28)  # Ensure the input tensor is correctly shaped\n",
    "            output = self.forward(x)  # Get model output\n",
    "            _, predicted_label = torch.max(output.data, 1)  # Find the predicted label\n",
    "            return predicted_label.item()  # Return the predicted class label as an integer\n",
    "\n",
    "\n",
    "class RFClassifier:\n",
    "    def __init__(self):\n",
    "        # Initialize the RandomForestClassifier here to use the same instance for training and predictions\n",
    "        # This maintains the state of the model across different method calls within the class.\n",
    "        self.random_forest_classifier = RandomForestClassifier(n_estimators=10, random_state=42)\n",
    "    \n",
    "    def train_model(self, trainloader):\n",
    "        # Train the model using the provided training data.\n",
    "        # trainloader: DataLoader containing training data\n",
    "        X_train, y_train = self._prepare_data(trainloader)\n",
    "        self.random_forest_classifier.fit(X_train, y_train)\n",
    "    \n",
    "    def predict(self, X):\n",
    "        # Use the trained model to predict labels for new data.\n",
    "        # X: new data features for which predictions are required, expected torch.Size([1, 1, 28, 28])\n",
    "        # Convert PyTorch tensor to NumPy array, reshape for RandomForest, and predict.\n",
    "        X = X.numpy().reshape(1, -1)  # Reshape from (1, 1, 28, 28) to (1, 784) for a single image\n",
    "        predictions = self.random_forest_classifier.predict(X)\n",
    "        return predictions[0]\n",
    "    \n",
    "    def _prepare_data(self, dataloader):\n",
    "        # Convert data from DataLoader into a format suitable for RandomForest.\n",
    "        X, y = [], []\n",
    "        for data in dataloader:\n",
    "            inputs, labels = data\n",
    "            # Convert PyTorch tensors to NumPy arrays and reshape for use in RandomForest.\n",
    "            inputs = inputs.numpy()\n",
    "            inputs = inputs.reshape(inputs.shape[0], -1)  # Reshape from (B, 1, 28, 28) to (B, 784)\n",
    "            X.append(inputs)\n",
    "            y.append(labels.numpy())\n",
    "        \n",
    "        # Concatenate all batch data into one array\n",
    "        X = np.concatenate(X, axis=0)\n",
    "        y = np.concatenate(y, axis=0)\n",
    "        return X, y\n",
    "\n",
    "class RandClassifier(DigitClassificationInterface):\n",
    "    def train(self, x):\n",
    "        # This method is implemented to comply with the interface, but it does nothing.\n",
    "        # RandomModelClassifier does not require training since it generates random predictions.\n",
    "        pass\n",
    "    \n",
    "    def predict(self, x):\n",
    "        # Takes an input tensor representing an image (typically MNIST) of size [1, 1, 28, 28] and returns a random number between 0 and 9.\n",
    "        # x: PyTorch tensor representing the image.\n",
    "        \n",
    "        # Create a center crop operation to reduce the image size to 10x10 pixels.\n",
    "        center_crop = transforms.CenterCrop(10)\n",
    "        \n",
    "        # Apply the center crop to the input image.\n",
    "        cropped_image = center_crop(x)\n",
    "        \n",
    "        # Return a random number between 0 and 9 using numpy's randint function.\n",
    "        return np.random.randint(0, 10)\n",
    "\n",
    "class DigitClassifier:\n",
    "    def __init__(self, model_name: str):\n",
    "        # Constructor for the DigitClassifier class.\n",
    "        # It initializes a classifier based on the provided model name.\n",
    "        # model_name: A string indicating which type of model to instantiate.\n",
    "        \n",
    "        # Internally calls the _get_model method to create an instance of the specified model.\n",
    "        self.model = self._get_model(model_name)\n",
    "\n",
    "    def _get_model(self, model_name: str) -> DigitClassificationInterface:\n",
    "        # Private method to retrieve an instance of a specific classification model.\n",
    "        # model_name: A string that specifies the model to instantiate.\n",
    "        # Returns an instance of a class that implements the DigitClassificationInterface.\n",
    "\n",
    "        # Checks the model_name and returns the appropriate classifier.\n",
    "        if model_name == \"cnn\":\n",
    "            return CNNClassifier()\n",
    "        elif model_name == \"rf\":\n",
    "            return RFClassifier()\n",
    "        elif model_name == \"rand\":\n",
    "            return RandClassifier()\n",
    "        else:\n",
    "            # If the provided model name is not recognized, raise an error.\n",
    "            raise ValueError(f\"Unknown model name: {model_name}\")\n",
    "\n",
    "    def predict(self, x):\n",
    "        # Method to predict the class of the input data using the initialized model.\n",
    "        # x: Input data for which the predictions need to be made.\n",
    "        # Returns the prediction results from the model's predict method.\n",
    "        \n",
    "        return self.model.predict(x)\n",
    "\n",
    "    def train(self, x):\n",
    "        # Method to train the model on the input data.\n",
    "        # x: Training data on which the model will be trained.\n",
    "        # Calls the train_model method of the model to perform the training process.\n",
    "        \n",
    "        return self.model.train_model(x)"
   ]
  },
  {
   "cell_type": "code",
   "execution_count": 3,
   "id": "3c73200c",
   "metadata": {},
   "outputs": [],
   "source": [
    "#Define a series of transformations to apply to the MNIST images.\n",
    "transform = transforms.Compose([\n",
    "    transforms.ToTensor(),  # Convert image to PyTorch tensor.\n",
    "    transforms.Normalize((0.5,), (0.5,))  # Normalize the tensor with mean and std deviation.\n",
    "])\n",
    "\n",
    "# Load the MNIST training dataset with the defined transformations.\n",
    "trainset = torchvision.datasets.MNIST(root='./data', train=True, download=True, transform=transform)\n",
    "# Create a DataLoader for the training set, with a batch size of 100 and shuffling enabled.\n",
    "trainloader = torch.utils.data.DataLoader(trainset, batch_size=100, shuffle=True)\n",
    "\n",
    "# Load the MNIST test dataset similar to the training dataset but with shuffling disabled.\n",
    "testset = torchvision.datasets.MNIST(root='./data', train=False, download=True, transform=transform)\n",
    "# Create a DataLoader for the test set, with a batch size of 1 for individual image processing.\n",
    "testloader = torch.utils.data.DataLoader(testset, batch_size=1, shuffle=False)"
   ]
  },
  {
   "cell_type": "code",
   "execution_count": 4,
   "id": "17181cdc",
   "metadata": {},
   "outputs": [],
   "source": [
    "# The task required creating an interface with the same structure for any model listed. \n",
    "# For this reason, all models take a tensor from torchvision.datasets.MNIST as input."
   ]
  },
  {
   "cell_type": "code",
   "execution_count": 5,
   "id": "beaf71ca",
   "metadata": {},
   "outputs": [
    {
     "name": "stdout",
     "output_type": "stream",
     "text": [
      "Epoch: 1, Average Loss: 0.131169\n"
     ]
    }
   ],
   "source": [
    "model = DigitClassifier('cnn')\n",
    "model.train(trainloader)"
   ]
  },
  {
   "cell_type": "code",
   "execution_count": 6,
   "id": "9e2b456c",
   "metadata": {},
   "outputs": [
    {
     "name": "stdout",
     "output_type": "stream",
     "text": [
      "Predicted label: 7\n",
      "Real label: 7\n"
     ]
    }
   ],
   "source": [
    "print('Predicted label:', model.predict(testset[0][0]))\n",
    "print('Real label:', testset[0][1])"
   ]
  },
  {
   "cell_type": "code",
   "execution_count": 7,
   "id": "fd5e5853",
   "metadata": {},
   "outputs": [],
   "source": [
    "model = DigitClassifier('rf')\n",
    "model.train(trainloader)"
   ]
  },
  {
   "cell_type": "code",
   "execution_count": 8,
   "id": "9e77cfd4",
   "metadata": {},
   "outputs": [
    {
     "name": "stdout",
     "output_type": "stream",
     "text": [
      "Predicted label: 7\n",
      "Real label: 7\n"
     ]
    }
   ],
   "source": [
    "print('Predicted label:', model.predict(testset[0][0]))\n",
    "print('Real label:', testset[0][1])"
   ]
  },
  {
   "cell_type": "code",
   "execution_count": 9,
   "id": "90b8de9a",
   "metadata": {},
   "outputs": [],
   "source": [
    "model = DigitClassifier('rand')"
   ]
  },
  {
   "cell_type": "code",
   "execution_count": 10,
   "id": "1653e312",
   "metadata": {},
   "outputs": [
    {
     "name": "stdout",
     "output_type": "stream",
     "text": [
      "Predicted label: 7\n",
      "Real label: 7\n"
     ]
    }
   ],
   "source": [
    "print('Predicted label:', model.predict(testset[0][0]))\n",
    "print('Real label:', testset[0][1])"
   ]
  }
 ],
 "metadata": {
  "kernelspec": {
   "display_name": "Python 3 (ipykernel)",
   "language": "python",
   "name": "python3"
  },
  "language_info": {
   "codemirror_mode": {
    "name": "ipython",
    "version": 3
   },
   "file_extension": ".py",
   "mimetype": "text/x-python",
   "name": "python",
   "nbconvert_exporter": "python",
   "pygments_lexer": "ipython3",
   "version": "3.9.7"
  }
 },
 "nbformat": 4,
 "nbformat_minor": 5
}
